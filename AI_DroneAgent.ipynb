{
 "cells": [
  {
   "cell_type": "code",
   "execution_count": 47,
   "metadata": {},
   "outputs": [],
   "source": [
    "class Drone:\n",
    "    def __init__(self,initial_location,battery,goal_location):\n",
    "        self.location=initial_location\n",
    "        self.battery=battery\n",
    "        self.no_fly_zones=[(2,3),(3,3)]\n",
    "        self.goal_location=goal_location\n",
    "\n",
    "    #Actions\n",
    "\n",
    "    def takeoff(self):\n",
    "        if self.battery>20:\n",
    "            self.location=self.location\n",
    "            self.battery-=1\n",
    "\n",
    "    def land(self):\n",
    "        if self.location==self.location:\n",
    "            self.location=self.location\n",
    "            self.battery-=1\n",
    "    def move(self,direction):\n",
    "        if self.battery<=20 or self.location!=self.location:\n",
    "            return\n",
    "        new_location=self.location\n",
    "        if direction==\"up\":\n",
    "            new_location=(self.location[0],self.location[1]+1)\n",
    "        elif direction==\"down\":\n",
    "            new_location=(self.location[0],self.location[1]-1)\n",
    "        elif direction==\"left\":\n",
    "            new_location=(self.location[0]+1,self.location[1])\n",
    "        elif direction==\"right\":\n",
    "            new_location=(self.location[0]-1,self.location[1])\n",
    "\n",
    "        if new_location not in self.no_fly_zones:\n",
    "            self.location=new_location\n",
    "            self.battery-=1\n",
    "    \n",
    "     #transition model\n",
    "    def transition_model(self,action):\n",
    "        if action==\"takeoff\":\n",
    "            self.takeoff()\n",
    "        elif action==\"land\":\n",
    "            self.land()\n",
    "        elif action.startswith(\"move_\"):\n",
    "            direction=action.split(\"_\")[1]\n",
    "            self.move(direction)\n",
    "\n",
    "\n",
    "     #objective function is cost here\n",
    "    def objective_function(self):\n",
    "        if self.location==self.goal_location:\n",
    "            return 100\n",
    "        return self.battery\n",
    "    \n",
    "     # ouput is criteria for success\n",
    "    "
   ]
  },
  {
   "cell_type": "code",
   "execution_count": 48,
   "metadata": {},
   "outputs": [
    {
     "name": "stdout",
     "output_type": "stream",
     "text": [
      "Final location: (-3, 3), Battery: 91\n",
      "Cost function score: 91\n"
     ]
    }
   ],
   "source": [
    "drone=Drone(initial_location=(0,0),battery=100,goal_location=(4,4))\n",
    "actions=[\"takeoff\",\"move_right\"\"move_up\",\"move_up\",\"move_up\",\"move_up\",\"move_right\",\"move_right\",\"move_right\",\"land\"]\n",
    "\n",
    "for action in actions:\n",
    "    drone.transition_model(action)\n",
    "\n",
    "print(f\"Final location: {drone.location}, Battery: {drone.battery}\")\n",
    "print(f\"Cost function score: {drone.objective_function()}\")"
   ]
  }
 ],
 "metadata": {
  "kernelspec": {
   "display_name": "Python 3",
   "language": "python",
   "name": "python3"
  },
  "language_info": {
   "codemirror_mode": {
    "name": "ipython",
    "version": 3
   },
   "file_extension": ".py",
   "mimetype": "text/x-python",
   "name": "python",
   "nbconvert_exporter": "python",
   "pygments_lexer": "ipython3",
   "version": "3.11.3"
  }
 },
 "nbformat": 4,
 "nbformat_minor": 2
}
