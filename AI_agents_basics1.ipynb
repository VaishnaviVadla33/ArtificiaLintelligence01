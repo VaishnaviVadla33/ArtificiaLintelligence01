{
 "cells": [
  {
   "cell_type": "code",
   "execution_count": 1,
   "metadata": {},
   "outputs": [
    {
     "name": "stdout",
     "output_type": "stream",
     "text": [
      "hi\n"
     ]
    }
   ],
   "source": [
    "#def for function()\n",
    "\n",
    "# __init__ is a special method as constructor. Automatically called when a new instance of a class is created\n",
    "# __init__ method allows to initialize attributes of an object"
   ]
  },
  {
   "cell_type": "code",
   "execution_count": 5,
   "metadata": {},
   "outputs": [],
   "source": [
    "#example: Inventory items with quantity\n",
    "#self is key word for class \n",
    "#__init__ method initiates objects with 2 attributes here\n",
    "\n",
    "class InventoryItem:\n",
    "    def __init__(self,name,quantity):\n",
    "        self.name=name\n",
    "        self.quantity=quantity\n",
    "\n",
    "    #String Representation\n",
    "    def __str__(self):\n",
    "        return f\"{self.name} - Quantity:{self.quantity}\"\n",
    "    \n",
    "    #Integer Representation\n",
    "    def __int__(self):\n",
    "        return self.quantity\n",
    "    \n",
    "\n",
    "#__init__   - Constructor\n",
    "#__str__    -String Representation\n",
    "#__int__    -Converts object to integer"
   ]
  },
  {
   "cell_type": "code",
   "execution_count": 6,
   "metadata": {},
   "outputs": [],
   "source": [
    "apple=InventoryItem(\"Apple\",10)\n",
    "banana=InventoryItem(\"Banana\",15)"
   ]
  },
  {
   "cell_type": "code",
   "execution_count": 7,
   "metadata": {},
   "outputs": [
    {
     "name": "stdout",
     "output_type": "stream",
     "text": [
      "Apple - Quantity:10\n",
      "Banana - Quantity:15\n"
     ]
    }
   ],
   "source": [
    "print(apple)\n",
    "print(banana)"
   ]
  },
  {
   "cell_type": "code",
   "execution_count": 10,
   "metadata": {},
   "outputs": [],
   "source": [
    "#class bank account\n",
    "#2f-> 2 decimal points\n",
    "\n",
    "class BankAccount:\n",
    "    def __init__(self,holder_name1,balance1):\n",
    "        self.holder_name=holder_name1\n",
    "        self.balance=balance1\n",
    "\n",
    "    def __str__(self):\n",
    "        return f\"Account Holder:{self.holder_name}, Balance:${self.balance:2f}\"\n",
    "    \n",
    "    def __int__(self):\n",
    "        return int(self.balance)"
   ]
  },
  {
   "cell_type": "code",
   "execution_count": 11,
   "metadata": {},
   "outputs": [],
   "source": [
    "acc1=BankAccount(\"Vysh\",12085.5784212)\n",
    "acc2=BankAccount(\"mumu\",500.00000)"
   ]
  },
  {
   "cell_type": "code",
   "execution_count": 12,
   "metadata": {},
   "outputs": [
    {
     "name": "stdout",
     "output_type": "stream",
     "text": [
      "Account Holder:Vysh, Balance:$12085.578421\n",
      "Account Holder:mumu, Balance:$500.000000\n"
     ]
    }
   ],
   "source": [
    "print(acc1)\n",
    "print(acc2)"
   ]
  }
 ],
 "metadata": {
  "kernelspec": {
   "display_name": "Python 3",
   "language": "python",
   "name": "python3"
  },
  "language_info": {
   "codemirror_mode": {
    "name": "ipython",
    "version": 3
   },
   "file_extension": ".py",
   "mimetype": "text/x-python",
   "name": "python",
   "nbconvert_exporter": "python",
   "pygments_lexer": "ipython3",
   "version": "3.11.3"
  }
 },
 "nbformat": 4,
 "nbformat_minor": 2
}
